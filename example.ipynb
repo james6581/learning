{
 "cells": [
  {
   "cell_type": "code",
   "execution_count": 1,
   "metadata": {
    "collapsed": false
   },
   "outputs": [
    {
     "name": "stdout",
     "output_type": "stream",
     "text": [
      "Hello,World\n"
     ]
    }
   ],
   "source": [
    "#輸出\n",
    "print (\"Hello,World\")"
   ]
  },
  {
   "cell_type": "code",
   "execution_count": 2,
   "metadata": {
    "collapsed": false
   },
   "outputs": [
    {
     "name": "stdout",
     "output_type": "stream",
     "text": [
      "3\n",
      "7.5\n"
     ]
    }
   ],
   "source": [
    "#數字賦值\n",
    "a = 1\n",
    "b = 2\n",
    "c = 3.0\n",
    "d = 4.5\n",
    "\n",
    "print (a+b)\n",
    "print (c+d)"
   ]
  },
  {
   "cell_type": "code",
   "execution_count": 3,
   "metadata": {
    "collapsed": false
   },
   "outputs": [
    {
     "name": "stdout",
     "output_type": "stream",
     "text": [
      "政治大學\n"
     ]
    }
   ],
   "source": [
    "#字串賦值\n",
    "x = '政治'\n",
    "y = '大學'\n",
    "print (x+y)"
   ]
  },
  {
   "cell_type": "code",
   "execution_count": 4,
   "metadata": {
    "collapsed": false
   },
   "outputs": [
    {
     "name": "stdout",
     "output_type": "stream",
     "text": [
      "Bob\n",
      "Bob\n",
      "您好,Bob\n",
      "您好,Bob\n"
     ]
    }
   ],
   "source": [
    "#輸入\n",
    "n = input()\n",
    "print (n)\n",
    "print ('您好,'+n)\n",
    "print ('您好,%s' % (n))"
   ]
  },
  {
   "cell_type": "code",
   "execution_count": 5,
   "metadata": {
    "collapsed": false
   },
   "outputs": [
    {
     "name": "stdout",
     "output_type": "stream",
     "text": [
      "True\n",
      "False\n",
      "True\n",
      "True\n"
     ]
    }
   ],
   "source": [
    "#邏輯判斷\n",
    "print (True and True)\n",
    "print (True and False)\n",
    "print (True or False)\n",
    "print (not False)"
   ]
  },
  {
   "cell_type": "code",
   "execution_count": 6,
   "metadata": {
    "collapsed": false
   },
   "outputs": [
    {
     "name": "stdout",
     "output_type": "stream",
     "text": [
      "False\n",
      "True\n",
      "False\n",
      "True\n"
     ]
    }
   ],
   "source": [
    "#邏輯判斷\n",
    "print (1 == 2)\n",
    "print (5 < 6)\n",
    "print (3 > 4 and 6 < 9)\n",
    "print (3 > 4 or 6 < 9)"
   ]
  },
  {
   "cell_type": "code",
   "execution_count": 7,
   "metadata": {
    "collapsed": false
   },
   "outputs": [
    {
     "name": "stdout",
     "output_type": "stream",
     "text": [
      "yes\n"
     ]
    }
   ],
   "source": [
    "#條件判斷\n",
    "if 1 < 2:\n",
    "    print ('yes')\n",
    "else:\n",
    "    print ('no')"
   ]
  },
  {
   "cell_type": "code",
   "execution_count": 8,
   "metadata": {
    "collapsed": false
   },
   "outputs": [
    {
     "name": "stdout",
     "output_type": "stream",
     "text": [
      "True\n"
     ]
    }
   ],
   "source": [
    "#進階條件判斷\n",
    "a = True\n",
    "b = False\n",
    "c = True\n",
    "\n",
    "if a == b:\n",
    "    print ('False')\n",
    "elif b != c:\n",
    "    print ('True')\n",
    "else:\n",
    "    print ('else')"
   ]
  },
  {
   "cell_type": "code",
   "execution_count": 9,
   "metadata": {
    "collapsed": false
   },
   "outputs": [
    {
     "name": "stdout",
     "output_type": "stream",
     "text": [
      "['Michael', 'Bob', 'Tracy']\n",
      "3\n",
      "['Michael', 'Bob', 'Tracy', 'Marry']\n",
      "Michael\n",
      "Marry\n",
      "['Michael', 'Bob', 'Tracy']\n"
     ]
    }
   ],
   "source": [
    "#list\n",
    "classmates = ['Michael', 'Bob', 'Tracy']\n",
    "print (classmates)\n",
    "print (len(classmates))\n",
    "classmates.append('Marry')\n",
    "print (classmates)\n",
    "print (classmates[0])\n",
    "print (classmates[-1])\n",
    "classmates.pop()\n",
    "print (classmates)"
   ]
  },
  {
   "cell_type": "code",
   "execution_count": 10,
   "metadata": {
    "collapsed": false
   },
   "outputs": [
    {
     "name": "stdout",
     "output_type": "stream",
     "text": [
      "['Michael', 'Bob']\n",
      "['Bob']\n",
      "l\n",
      "choo\n"
     ]
    }
   ],
   "source": [
    "#list\n",
    "print (classmates[0:2])\n",
    "print (classmates[1:-1])\n",
    "\n",
    "word = \"school\"\n",
    "print (word[-1])\n",
    "print (word[1:-1])"
   ]
  },
  {
   "cell_type": "code",
   "execution_count": 11,
   "metadata": {
    "collapsed": false
   },
   "outputs": [
    {
     "name": "stdout",
     "output_type": "stream",
     "text": [
      "0\n",
      "1\n",
      "2\n",
      "3\n",
      "4\n"
     ]
    }
   ],
   "source": [
    "#迴圈\n",
    "for i in range(5):\n",
    "    print (i)"
   ]
  },
  {
   "cell_type": "code",
   "execution_count": 12,
   "metadata": {
    "collapsed": false
   },
   "outputs": [
    {
     "name": "stdout",
     "output_type": "stream",
     "text": [
      "1\n",
      "2\n",
      "3\n",
      "4\n"
     ]
    }
   ],
   "source": [
    "#迴圈\n",
    "for i in range(1,5):\n",
    "    print (i)"
   ]
  },
  {
   "cell_type": "code",
   "execution_count": 13,
   "metadata": {
    "collapsed": false
   },
   "outputs": [
    {
     "name": "stdout",
     "output_type": "stream",
     "text": [
      "Michael\n",
      "Bob\n",
      "Tracy\n"
     ]
    }
   ],
   "source": [
    "#迴圈\n",
    "for i in range(len(classmates)):\n",
    "    print (classmates[i])"
   ]
  },
  {
   "cell_type": "code",
   "execution_count": 14,
   "metadata": {
    "collapsed": false
   },
   "outputs": [
    {
     "name": "stdout",
     "output_type": "stream",
     "text": [
      "Michael\n",
      "Bob\n",
      "Tracy\n"
     ]
    }
   ],
   "source": [
    "#迴圈\n",
    "for i in classmates:\n",
    "    print (i)"
   ]
  },
  {
   "cell_type": "code",
   "execution_count": 15,
   "metadata": {
    "collapsed": false
   },
   "outputs": [
    {
     "name": "stdout",
     "output_type": "stream",
     "text": [
      "0\n",
      "1\n",
      "2\n",
      "3\n",
      "4\n"
     ]
    }
   ],
   "source": [
    "#迴圈\n",
    "a = 0\n",
    "while(a < 5):\n",
    "    print (a)\n",
    "    a = a + 1"
   ]
  },
  {
   "cell_type": "code",
   "execution_count": 16,
   "metadata": {
    "collapsed": false
   },
   "outputs": [
    {
     "name": "stdout",
     "output_type": "stream",
     "text": [
      "Hello, Michael\n",
      "Hello, Bob\n"
     ]
    }
   ],
   "source": [
    "#函式\n",
    "def hello(name):\n",
    "    print ('Hello, '+name)\n",
    "    \n",
    "hello('Michael')\n",
    "hello('Bob')"
   ]
  },
  {
   "cell_type": "code",
   "execution_count": 17,
   "metadata": {
    "collapsed": false
   },
   "outputs": [
    {
     "name": "stdout",
     "output_type": "stream",
     "text": [
      "5\n",
      "6\n"
     ]
    }
   ],
   "source": [
    "#函式\n",
    "def my_abs(number):\n",
    "    if number >= 0:\n",
    "        return number\n",
    "    else:\n",
    "        return -number\n",
    "\n",
    "print (my_abs(5))\n",
    "print (my_abs(-6))"
   ]
  }
 ],
 "metadata": {
  "kernelspec": {
   "display_name": "Python 3",
   "language": "python",
   "name": "python3"
  },
  "language_info": {
   "codemirror_mode": {
    "name": "ipython",
    "version": 3
   },
   "file_extension": ".py",
   "mimetype": "text/x-python",
   "name": "python",
   "nbconvert_exporter": "python",
   "pygments_lexer": "ipython3",
   "version": "3.5.2"
  }
 },
 "nbformat": 4,
 "nbformat_minor": 0
}